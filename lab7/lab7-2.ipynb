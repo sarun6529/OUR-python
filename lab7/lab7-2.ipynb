{
 "cells": [
  {
   "cell_type": "code",
   "execution_count": 7,
   "metadata": {},
   "outputs": [],
   "source": [
    "import tkinter as tk\n",
    "\n",
    "app = tk.Tk()\n",
    "app.geometry(\"500x300\")\n",
    "def showme(n):\n",
    "    print(n.get())\n",
    "\n",
    "app.title('Design by Somkiat')\n",
    "label = tk.Label(app, text=\"ชื่อพนักงาน:\")\n",
    "name = tk.Entry(app)\n",
    "label2 = tk.Label(app, text=\"เงินเดือน:\")\n",
    "salary = tk.Entry(app)\n",
    "btn = tk.Button(app, text=\"คลิกฉัน\", command=lambda: showme(name))\n",
    "\n",
    "label.place(x=50, y=50)\n",
    "name.place(x=150, y=50)\n",
    "label2.place(x=50, y=100)\n",
    "salary.place(x=150, y=100)\n",
    "btn.place(x=50, y=150)\n",
    "\n",
    "app.mainloop()\n"
   ]
  },
  {
   "cell_type": "code",
   "execution_count": 6,
   "metadata": {},
   "outputs": [],
   "source": [
    "import tkinter as tk\n",
    "from tkinter import messagebox\n",
    "\n",
    "def คำนวณเงินเดือน():\n",
    "    try:\n",
    "        ชื่อ = ชื่อพนักงาน_entry.get()\n",
    "        เงินเดือน = float(เงินเดือน_entry.get())\n",
    "        ชั่วโมงทำงาน = float(ชั่วโมงทำงาน_entry.get())\n",
    "\n",
    "        อัตราค่าชั่วโมง = 100\n",
    "        if ชั่วโมงทำงาน > 40:\n",
    "            ค่าล่วงเวลา = (ชั่วโมงทำงาน - 40) * อัตราค่าชั่วโมง * 1.5 + 40 * อัตราค่าชั่วโมง\n",
    "        else:\n",
    "            ค่าล่วงเวลา = ชั่วโมงทำงาน * อัตราค่าชั่วโมง\n",
    "        \n",
    "        เงินเดือนรวม = เงินเดือน + ค่าล่วงเวลา\n",
    "\n",
    "        ผลลัพธ์ = (f\"ชื่อพนักงาน: {ชื่อ}\\n\"\n",
    "                    f\"เงินเดือน: {เงินเดือน:.2f} บาท\\n\"\n",
    "                    f\"ชั่วโมงล่วงเวลา: {ชั่วโมงทำงาน:.0f} ชั่วโมง\\n\"\n",
    "                    f\"ค่าล่วงเวลา: {ค่าล่วงเวลา:.2f} บาท\\n\"\n",
    "                    f\"รวมเป็นเงินเดือนทั้งหมด: {เงินเดือนรวม:.2f} บาท\")\n",
    "        \n",
    "        messagebox.showinfo(\"ผลลัพธ์\", ผลลัพธ์)\n",
    "    except ValueError:\n",
    "        messagebox.showerror(\"ข้อผิดพลาด\", \"กรุณาใส่ข้อมูลให้ถูกต้อง\")\n",
    "root = tk.Tk()\n",
    "root.title(\"คำนวณเงินเดือนและค่าล่วงเวลา\")\n",
    "tk.Label(root, text=\"ชื่อพนักงาน:\").grid(row=0, column=0, padx=10, pady=10)\n",
    "ชื่อพนักงาน_entry = tk.Entry(root)\n",
    "ชื่อพนักงาน_entry.grid(row=0, column=1, padx=10, pady=10)\n",
    "tk.Label(root, text=\"เงินเดือน (บาท):\").grid(row=1, column=0, padx=10, pady=10)\n",
    "เงินเดือน_entry = tk.Entry(root)\n",
    "เงินเดือน_entry.grid(row=1, column=1, padx=10, pady=10)\n",
    "tk.Label(root, text=\"ชั่วโมงทำงานสำหรับค่าล่วงเวลา:\").grid(row=2, column=0, padx=10, pady=10)\n",
    "ชั่วโมงทำงาน_entry = tk.Entry(root)\n",
    "ชั่วโมงทำงาน_entry.grid(row=2, column=1, padx=10, pady=10)\n",
    "tk.Button(root, text=\"คำนวณ\", command=คำนวณเงินเดือน).grid(row=3, column=0, columnspan=2, pady=10)\n",
    "root.mainloop()\n",
    "\n",
    "#BY GPT4.0"
   ]
  }
 ],
 "metadata": {
  "kernelspec": {
   "display_name": "Python 3",
   "language": "python",
   "name": "python3"
  },
  "language_info": {
   "codemirror_mode": {
    "name": "ipython",
    "version": 3
   },
   "file_extension": ".py",
   "mimetype": "text/x-python",
   "name": "python",
   "nbconvert_exporter": "python",
   "pygments_lexer": "ipython3",
   "version": "3.12.2"
  }
 },
 "nbformat": 4,
 "nbformat_minor": 2
}
